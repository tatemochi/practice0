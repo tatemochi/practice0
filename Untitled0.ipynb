{
  "nbformat": 4,
  "nbformat_minor": 0,
  "metadata": {
    "colab": {
      "name": "Untitled0.ipynb",
      "provenance": [],
      "collapsed_sections": [],
      "authorship_tag": "ABX9TyMdK2TJMj4Ly/kLs3Wlntsn",
      "include_colab_link": true
    },
    "kernelspec": {
      "name": "python3",
      "display_name": "Python 3"
    }
  },
  "cells": [
    {
      "cell_type": "markdown",
      "metadata": {
        "id": "view-in-github",
        "colab_type": "text"
      },
      "source": [
        "<a href=\"https://colab.research.google.com/github/tatemochi/practice0/blob/master/Untitled0.ipynb\" target=\"_parent\"><img src=\"https://colab.research.google.com/assets/colab-badge.svg\" alt=\"Open In Colab\"/></a>"
      ]
    },
    {
      "cell_type": "code",
      "metadata": {
        "id": "fh4EFRA23-HH",
        "colab_type": "code",
        "colab": {}
      },
      "source": [
        "import numpy as np\n",
        "import matplotlib.pyplot as plt"
      ],
      "execution_count": null,
      "outputs": []
    },
    {
      "cell_type": "code",
      "metadata": {
        "id": "rShspytb96rQ",
        "colab_type": "code",
        "colab": {}
      },
      "source": [
        "D = 100\n",
        "N = 2\n",
        "xdata = np.random.randn(D*N).reshape(D,N).astype(np.float32)"
      ],
      "execution_count": null,
      "outputs": []
    },
    {
      "cell_type": "code",
      "metadata": {
        "id": "CnKL4W-K-l1a",
        "colab_type": "code",
        "colab": {
          "base_uri": "https://localhost:8080/",
          "height": 282
        },
        "outputId": "8b8c11af-8c0d-47b7-980b-b692dbacb081"
      },
      "source": [
        "plt.scatter(xdata[:,0],xdata[:,1])\n",
        "plt.show"
      ],
      "execution_count": null,
      "outputs": [
        {
          "output_type": "execute_result",
          "data": {
            "text/plain": [
              "<function matplotlib.pyplot.show>"
            ]
          },
          "metadata": {
            "tags": []
          },
          "execution_count": 19
        },
        {
          "output_type": "display_data",
          "data": {
            "image/png": "[encoded data removed]",
            "text/plain": [
              "<Figure size 432x288 with 1 Axes>"
            ]
          },
          "metadata": {
            "tags": []
          }
        }
      ]
    },
    {
      "cell_type": "code",
      "metadata": {
        "id": "hUjiZihA_l38",
        "colab_type": "code",
        "colab": {}
      },
      "source": [
        "def f(x):\n",
        "  y = x*x\n",
        "  return y"
      ],
      "execution_count": null,
      "outputs": []
    },
    {
      "cell_type": "code",
      "metadata": {
        "id": "7fuEgq4wBDWP",
        "colab_type": "code",
        "colab": {}
      },
      "source": [
        "tdata = (xdata[:,1] > f(xdata[:,0])).astype(np.int32)"
      ],
      "execution_count": null,
      "outputs": []
    },
    {
      "cell_type": "code",
      "metadata": {
        "id": "oFIqZ04OBUi7",
        "colab_type": "code",
        "colab": {
          "base_uri": "https://localhost:8080/",
          "height": 34
        },
        "outputId": "f95f75ff-66bc-4cab-a2d5-26a14ded2c5e"
      },
      "source": [
        "print(xdata.shape)"
      ],
      "execution_count": null,
      "outputs": [
        {
          "output_type": "stream",
          "text": [
            "(100, 2)\n"
          ],
          "name": "stdout"
        }
      ]
    },
    {
      "cell_type": "code",
      "metadata": {
        "id": "lkSe0u2iBXr7",
        "colab_type": "code",
        "colab": {}
      },
      "source": [
        "ndata0 = np.where(tdata==0)\n",
        "ndata1 = np.where(tdata==1)"
      ],
      "execution_count": null,
      "outputs": []
    },
    {
      "cell_type": "code",
      "metadata": {
        "id": "a-HIpnwtDAwX",
        "colab_type": "code",
        "colab": {
          "base_uri": "https://localhost:8080/",
          "height": 105
        },
        "outputId": "7a9942cb-9ea7-4189-cecf-f5d810e39517"
      },
      "source": [
        "print(ndata0)"
      ],
      "execution_count": null,
      "outputs": [
        {
          "output_type": "stream",
          "text": [
            "(array([ 0,  1,  2,  3,  4,  5,  6,  7,  8,  9, 10, 12, 13, 14, 15, 16, 18,\n",
            "       19, 20, 23, 24, 25, 27, 29, 30, 31, 33, 34, 35, 36, 37, 39, 41, 45,\n",
            "       46, 47, 49, 51, 52, 53, 54, 55, 56, 57, 58, 59, 60, 61, 62, 64, 65,\n",
            "       67, 68, 69, 70, 74, 76, 77, 78, 79, 80, 81, 82, 84, 88, 89, 90, 91,\n",
            "       92, 93, 94, 95, 96, 97, 98, 99]),)\n"
          ],
          "name": "stdout"
        }
      ]
    },
    {
      "cell_type": "code",
      "metadata": {
        "id": "B_3iTjZ4DD1o",
        "colab_type": "code",
        "colab": {
          "base_uri": "https://localhost:8080/",
          "height": 52
        },
        "outputId": "b12ea141-7edf-43cf-e35f-b117bf8fcd7d"
      },
      "source": [
        "print(ndata1)"
      ],
      "execution_count": null,
      "outputs": [
        {
          "output_type": "stream",
          "text": [
            "(array([11, 17, 21, 22, 26, 28, 32, 38, 40, 42, 43, 44, 48, 50, 63, 66, 71,\n",
            "       72, 73, 75, 83, 85, 86, 87]),)\n"
          ],
          "name": "stdout"
        }
      ]
    },
    {
      "cell_type": "code",
      "metadata": {
        "id": "7X9jheo9DHDO",
        "colab_type": "code",
        "colab": {
          "base_uri": "https://localhost:8080/",
          "height": 282
        },
        "outputId": "6c0e77e4-638e-42a8-c3b2-032a14780d3b"
      },
      "source": [
        "x =np.linspace(-2.0,2.0,D)\n",
        "plt.plot(x,f(x))\n",
        "plt.scatter(xdata[ndata0,0],xdata[ndata0,1],marker=\"x\")\n",
        "plt.scatter(xdata[ndata1,0],xdata[ndata1,1],marker=\"o\")\n",
        "plt.show\n"
      ],
      "execution_count": null,
      "outputs": [
        {
          "output_type": "execute_result",
          "data": {
            "text/plain": [
              "<function matplotlib.pyplot.show>"
            ]
          },
          "metadata": {
            "tags": []
          },
          "execution_count": 30
        },
        {
          "output_type": "display_data",
          "data": {
            "image/png": "[encoded data removed]",
            "text/plain": [
              "<Figure size 432x288 with 1 Axes>"
            ]
          },
          "metadata": {
            "tags": []
          }
        }
      ]
    }
  ]
}